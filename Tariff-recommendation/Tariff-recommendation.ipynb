{
 "cells": [
  {
   "cell_type": "markdown",
   "metadata": {},
   "source": [
    "# Determination of a prospective tariff for a telecom company\n",
    "\n",
    "***Description of the project***\n",
    "I am an analyst at Megaline, a federal mobile operator. Clients are offered two tariff plans: \"Smart\" and \"Ultra\". To adjust the advertising budget, the commercial department wants to understand which tariff brings in more money.\n",
    "I have to do a preliminary analysis of tariffs on a small sample of customers. I have at my disposal the data of 500 Megaline users: who they are, where they are from, what tariff they use, how many calls and messages each sent in 2018. It is necessary to analyze the behavior of customers and draw a conclusion - which tariff is better\n",
    "\n",
    "### Description of tariffs\n",
    "- ***Smart Tariff***\n",
    "- Monthly fee: 550 rubles\n",
    "- Included 500 minutes of calls, 50 messages and 15 GB of internet traffic\n",
    "- The cost of services above the tariff package:\n",
    "- minute of conversation: 3 rubles\n",
    "- message: 3 rubles\n",
    "- 1 GB of Internet traffic: 200 rubles\n",
    "-\n",
    "- *** Tariff \"Ultra\" ***\n",
    "- Monthly fee: 1950 rubles\n",
    "- Included 3000 minutes of calls, 1000 messages and 30 GB of internet traffic\n",
    "- The cost of services above the tariff package:\n",
    "- minute of conversation: 1 ruble\n",
    "- message: 1 ruble\n",
    "- 1 GB of Internet traffic: 150 rubles\n"
   ]
  },
  {
   "cell_type": "markdown",
   "metadata": {},
   "source": [
    "## Step 1. Open the data file and examine the general information"
   ]
  },
  {
   "cell_type": "code",
   "execution_count": 1,
   "metadata": {},
   "outputs": [],
   "source": [
    "import matplotlib.pyplot as plt\n",
    "import pandas as pd\n",
    "from functools import reduce\n",
    "from scipy import stats as st\n",
    "import numpy as np\n",
    "\n",
    "import pandas as pd\n",
    "from sklearn.tree import DecisionTreeClassifier\n",
    "from sklearn.metrics import mean_squared_error\n",
    "from sklearn.metrics import accuracy_score\n",
    "from sklearn.ensemble import RandomForestClassifier\n",
    "from sklearn.linear_model import LogisticRegression"
   ]
  },
  {
   "cell_type": "code",
   "execution_count": 2,
   "metadata": {},
   "outputs": [
    {
     "name": "stdout",
     "output_type": "stream",
     "text": [
      "<class 'pandas.core.frame.DataFrame'>\n",
      "RangeIndex: 202607 entries, 0 to 202606\n",
      "Data columns (total 4 columns):\n",
      " #   Column     Non-Null Count   Dtype  \n",
      "---  ------     --------------   -----  \n",
      " 0   id         202607 non-null  object \n",
      " 1   call_date  202607 non-null  object \n",
      " 2   duration   202607 non-null  float64\n",
      " 3   user_id    202607 non-null  int64  \n",
      "dtypes: float64(1), int64(1), object(2)\n",
      "memory usage: 6.2+ MB\n",
      "<class 'pandas.core.frame.DataFrame'>\n",
      "RangeIndex: 149396 entries, 0 to 149395\n",
      "Data columns (total 5 columns):\n",
      " #   Column        Non-Null Count   Dtype  \n",
      "---  ------        --------------   -----  \n",
      " 0   Unnamed: 0    149396 non-null  int64  \n",
      " 1   id            149396 non-null  object \n",
      " 2   mb_used       149396 non-null  float64\n",
      " 3   session_date  149396 non-null  object \n",
      " 4   user_id       149396 non-null  int64  \n",
      "dtypes: float64(1), int64(2), object(2)\n",
      "memory usage: 5.7+ MB\n",
      "<class 'pandas.core.frame.DataFrame'>\n",
      "RangeIndex: 123036 entries, 0 to 123035\n",
      "Data columns (total 3 columns):\n",
      " #   Column        Non-Null Count   Dtype \n",
      "---  ------        --------------   ----- \n",
      " 0   id            123036 non-null  object\n",
      " 1   message_date  123036 non-null  object\n",
      " 2   user_id       123036 non-null  int64 \n",
      "dtypes: int64(1), object(2)\n",
      "memory usage: 2.8+ MB\n",
      "<class 'pandas.core.frame.DataFrame'>\n",
      "RangeIndex: 2 entries, 0 to 1\n",
      "Data columns (total 8 columns):\n",
      " #   Column                 Non-Null Count  Dtype \n",
      "---  ------                 --------------  ----- \n",
      " 0   messages_included      2 non-null      int64 \n",
      " 1   mb_per_month_included  2 non-null      int64 \n",
      " 2   minutes_included       2 non-null      int64 \n",
      " 3   rub_monthly_fee        2 non-null      int64 \n",
      " 4   rub_per_gb             2 non-null      int64 \n",
      " 5   rub_per_message        2 non-null      int64 \n",
      " 6   rub_per_minute         2 non-null      int64 \n",
      " 7   tariff_name            2 non-null      object\n",
      "dtypes: int64(7), object(1)\n",
      "memory usage: 256.0+ bytes\n",
      "<class 'pandas.core.frame.DataFrame'>\n",
      "RangeIndex: 500 entries, 0 to 499\n",
      "Data columns (total 8 columns):\n",
      " #   Column      Non-Null Count  Dtype \n",
      "---  ------      --------------  ----- \n",
      " 0   user_id     500 non-null    int64 \n",
      " 1   age         500 non-null    int64 \n",
      " 2   churn_date  38 non-null     object\n",
      " 3   city        500 non-null    object\n",
      " 4   first_name  500 non-null    object\n",
      " 5   last_name   500 non-null    object\n",
      " 6   reg_date    500 non-null    object\n",
      " 7   tariff      500 non-null    object\n",
      "dtypes: int64(2), object(6)\n",
      "memory usage: 31.4+ KB\n"
     ]
    },
    {
     "data": {
      "text/html": [
       "<div>\n",
       "<style scoped>\n",
       "    .dataframe tbody tr th:only-of-type {\n",
       "        vertical-align: middle;\n",
       "    }\n",
       "\n",
       "    .dataframe tbody tr th {\n",
       "        vertical-align: top;\n",
       "    }\n",
       "\n",
       "    .dataframe thead th {\n",
       "        text-align: right;\n",
       "    }\n",
       "</style>\n",
       "<table border=\"1\" class=\"dataframe\">\n",
       "  <thead>\n",
       "    <tr style=\"text-align: right;\">\n",
       "      <th></th>\n",
       "      <th>user_id</th>\n",
       "      <th>age</th>\n",
       "      <th>churn_date</th>\n",
       "      <th>city</th>\n",
       "      <th>first_name</th>\n",
       "      <th>last_name</th>\n",
       "      <th>reg_date</th>\n",
       "      <th>tariff</th>\n",
       "    </tr>\n",
       "  </thead>\n",
       "  <tbody>\n",
       "    <tr>\n",
       "      <th>0</th>\n",
       "      <td>1000</td>\n",
       "      <td>52</td>\n",
       "      <td>NaN</td>\n",
       "      <td>Краснодар</td>\n",
       "      <td>Рафаил</td>\n",
       "      <td>Верещагин</td>\n",
       "      <td>2018-05-25</td>\n",
       "      <td>ultra</td>\n",
       "    </tr>\n",
       "    <tr>\n",
       "      <th>1</th>\n",
       "      <td>1001</td>\n",
       "      <td>41</td>\n",
       "      <td>NaN</td>\n",
       "      <td>Москва</td>\n",
       "      <td>Иван</td>\n",
       "      <td>Ежов</td>\n",
       "      <td>2018-11-01</td>\n",
       "      <td>smart</td>\n",
       "    </tr>\n",
       "    <tr>\n",
       "      <th>2</th>\n",
       "      <td>1002</td>\n",
       "      <td>59</td>\n",
       "      <td>NaN</td>\n",
       "      <td>Стерлитамак</td>\n",
       "      <td>Евгений</td>\n",
       "      <td>Абрамович</td>\n",
       "      <td>2018-06-17</td>\n",
       "      <td>smart</td>\n",
       "    </tr>\n",
       "    <tr>\n",
       "      <th>3</th>\n",
       "      <td>1003</td>\n",
       "      <td>23</td>\n",
       "      <td>NaN</td>\n",
       "      <td>Москва</td>\n",
       "      <td>Белла</td>\n",
       "      <td>Белякова</td>\n",
       "      <td>2018-08-17</td>\n",
       "      <td>ultra</td>\n",
       "    </tr>\n",
       "    <tr>\n",
       "      <th>4</th>\n",
       "      <td>1004</td>\n",
       "      <td>68</td>\n",
       "      <td>NaN</td>\n",
       "      <td>Новокузнецк</td>\n",
       "      <td>Татьяна</td>\n",
       "      <td>Авдеенко</td>\n",
       "      <td>2018-05-14</td>\n",
       "      <td>ultra</td>\n",
       "    </tr>\n",
       "    <tr>\n",
       "      <th>...</th>\n",
       "      <td>...</td>\n",
       "      <td>...</td>\n",
       "      <td>...</td>\n",
       "      <td>...</td>\n",
       "      <td>...</td>\n",
       "      <td>...</td>\n",
       "      <td>...</td>\n",
       "      <td>...</td>\n",
       "    </tr>\n",
       "    <tr>\n",
       "      <th>495</th>\n",
       "      <td>1495</td>\n",
       "      <td>65</td>\n",
       "      <td>NaN</td>\n",
       "      <td>Иркутск</td>\n",
       "      <td>Авксентий</td>\n",
       "      <td>Фокин</td>\n",
       "      <td>2018-08-28</td>\n",
       "      <td>ultra</td>\n",
       "    </tr>\n",
       "    <tr>\n",
       "      <th>496</th>\n",
       "      <td>1496</td>\n",
       "      <td>36</td>\n",
       "      <td>NaN</td>\n",
       "      <td>Вологда</td>\n",
       "      <td>Трифон</td>\n",
       "      <td>Блохин</td>\n",
       "      <td>2018-01-27</td>\n",
       "      <td>smart</td>\n",
       "    </tr>\n",
       "    <tr>\n",
       "      <th>497</th>\n",
       "      <td>1497</td>\n",
       "      <td>32</td>\n",
       "      <td>NaN</td>\n",
       "      <td>Челябинск</td>\n",
       "      <td>Каролина</td>\n",
       "      <td>Агеева</td>\n",
       "      <td>2018-10-09</td>\n",
       "      <td>smart</td>\n",
       "    </tr>\n",
       "    <tr>\n",
       "      <th>498</th>\n",
       "      <td>1498</td>\n",
       "      <td>68</td>\n",
       "      <td>2018-10-25</td>\n",
       "      <td>Владикавказ</td>\n",
       "      <td>Всеволод</td>\n",
       "      <td>Акимчин</td>\n",
       "      <td>2018-07-19</td>\n",
       "      <td>smart</td>\n",
       "    </tr>\n",
       "    <tr>\n",
       "      <th>499</th>\n",
       "      <td>1499</td>\n",
       "      <td>35</td>\n",
       "      <td>NaN</td>\n",
       "      <td>Пермь</td>\n",
       "      <td>Гектор</td>\n",
       "      <td>Корнилов</td>\n",
       "      <td>2018-09-27</td>\n",
       "      <td>smart</td>\n",
       "    </tr>\n",
       "  </tbody>\n",
       "</table>\n",
       "<p>500 rows × 8 columns</p>\n",
       "</div>"
      ],
      "text/plain": [
       "     user_id  age  churn_date         city first_name  last_name    reg_date  \\\n",
       "0       1000   52         NaN    Краснодар     Рафаил  Верещагин  2018-05-25   \n",
       "1       1001   41         NaN       Москва       Иван       Ежов  2018-11-01   \n",
       "2       1002   59         NaN  Стерлитамак    Евгений  Абрамович  2018-06-17   \n",
       "3       1003   23         NaN       Москва      Белла   Белякова  2018-08-17   \n",
       "4       1004   68         NaN  Новокузнецк    Татьяна   Авдеенко  2018-05-14   \n",
       "..       ...  ...         ...          ...        ...        ...         ...   \n",
       "495     1495   65         NaN      Иркутск  Авксентий      Фокин  2018-08-28   \n",
       "496     1496   36         NaN      Вологда     Трифон     Блохин  2018-01-27   \n",
       "497     1497   32         NaN    Челябинск   Каролина     Агеева  2018-10-09   \n",
       "498     1498   68  2018-10-25  Владикавказ   Всеволод    Акимчин  2018-07-19   \n",
       "499     1499   35         NaN        Пермь     Гектор   Корнилов  2018-09-27   \n",
       "\n",
       "    tariff  \n",
       "0    ultra  \n",
       "1    smart  \n",
       "2    smart  \n",
       "3    ultra  \n",
       "4    ultra  \n",
       "..     ...  \n",
       "495  ultra  \n",
       "496  smart  \n",
       "497  smart  \n",
       "498  smart  \n",
       "499  smart  \n",
       "\n",
       "[500 rows x 8 columns]"
      ]
     },
     "metadata": {},
     "output_type": "display_data"
    }
   ],
   "source": [
    "calls = pd.read_csv(\"/datasets/calls.csv\")\n",
    "internet = pd.read_csv(\"/datasets/internet.csv\")\n",
    "messages = pd.read_csv(\"/datasets/messages.csv\")\n",
    "tariffs = pd.read_csv(\"/datasets/tariffs.csv\")\n",
    "users = pd.read_csv(\"/datasets/users.csv\")\n",
    "calls.info()\n",
    "internet.info()\n",
    "messages.info()\n",
    "tariffs.info()\n",
    "users.info()\n",
    "display(users)"
   ]
  },
  {
   "cell_type": "code",
   "execution_count": 3,
   "metadata": {},
   "outputs": [
    {
     "name": "stdout",
     "output_type": "stream",
     "text": [
      "<class 'pandas.core.frame.DataFrame'>\n",
      "RangeIndex: 3214 entries, 0 to 3213\n",
      "Data columns (total 5 columns):\n",
      " #   Column    Non-Null Count  Dtype  \n",
      "---  ------    --------------  -----  \n",
      " 0   calls     3214 non-null   float64\n",
      " 1   minutes   3214 non-null   float64\n",
      " 2   messages  3214 non-null   float64\n",
      " 3   mb_used   3214 non-null   float64\n",
      " 4   is_ultra  3214 non-null   int64  \n",
      "dtypes: float64(4), int64(1)\n",
      "memory usage: 125.7 KB\n"
     ]
    },
    {
     "data": {
      "text/html": [
       "<div>\n",
       "<style scoped>\n",
       "    .dataframe tbody tr th:only-of-type {\n",
       "        vertical-align: middle;\n",
       "    }\n",
       "\n",
       "    .dataframe tbody tr th {\n",
       "        vertical-align: top;\n",
       "    }\n",
       "\n",
       "    .dataframe thead th {\n",
       "        text-align: right;\n",
       "    }\n",
       "</style>\n",
       "<table border=\"1\" class=\"dataframe\">\n",
       "  <thead>\n",
       "    <tr style=\"text-align: right;\">\n",
       "      <th></th>\n",
       "      <th>calls</th>\n",
       "      <th>minutes</th>\n",
       "      <th>messages</th>\n",
       "      <th>mb_used</th>\n",
       "      <th>is_ultra</th>\n",
       "    </tr>\n",
       "  </thead>\n",
       "  <tbody>\n",
       "    <tr>\n",
       "      <th>0</th>\n",
       "      <td>40.0</td>\n",
       "      <td>311.90</td>\n",
       "      <td>83.0</td>\n",
       "      <td>19915.42</td>\n",
       "      <td>0</td>\n",
       "    </tr>\n",
       "    <tr>\n",
       "      <th>1</th>\n",
       "      <td>85.0</td>\n",
       "      <td>516.75</td>\n",
       "      <td>56.0</td>\n",
       "      <td>22696.96</td>\n",
       "      <td>0</td>\n",
       "    </tr>\n",
       "    <tr>\n",
       "      <th>2</th>\n",
       "      <td>77.0</td>\n",
       "      <td>467.66</td>\n",
       "      <td>86.0</td>\n",
       "      <td>21060.45</td>\n",
       "      <td>0</td>\n",
       "    </tr>\n",
       "    <tr>\n",
       "      <th>3</th>\n",
       "      <td>106.0</td>\n",
       "      <td>745.53</td>\n",
       "      <td>81.0</td>\n",
       "      <td>8437.39</td>\n",
       "      <td>1</td>\n",
       "    </tr>\n",
       "    <tr>\n",
       "      <th>4</th>\n",
       "      <td>66.0</td>\n",
       "      <td>418.74</td>\n",
       "      <td>1.0</td>\n",
       "      <td>14502.75</td>\n",
       "      <td>0</td>\n",
       "    </tr>\n",
       "    <tr>\n",
       "      <th>5</th>\n",
       "      <td>58.0</td>\n",
       "      <td>344.56</td>\n",
       "      <td>21.0</td>\n",
       "      <td>15823.37</td>\n",
       "      <td>0</td>\n",
       "    </tr>\n",
       "    <tr>\n",
       "      <th>6</th>\n",
       "      <td>57.0</td>\n",
       "      <td>431.64</td>\n",
       "      <td>20.0</td>\n",
       "      <td>3738.90</td>\n",
       "      <td>1</td>\n",
       "    </tr>\n",
       "    <tr>\n",
       "      <th>7</th>\n",
       "      <td>15.0</td>\n",
       "      <td>132.40</td>\n",
       "      <td>6.0</td>\n",
       "      <td>21911.60</td>\n",
       "      <td>0</td>\n",
       "    </tr>\n",
       "    <tr>\n",
       "      <th>8</th>\n",
       "      <td>7.0</td>\n",
       "      <td>43.39</td>\n",
       "      <td>3.0</td>\n",
       "      <td>2538.67</td>\n",
       "      <td>1</td>\n",
       "    </tr>\n",
       "    <tr>\n",
       "      <th>9</th>\n",
       "      <td>90.0</td>\n",
       "      <td>665.41</td>\n",
       "      <td>38.0</td>\n",
       "      <td>17358.61</td>\n",
       "      <td>0</td>\n",
       "    </tr>\n",
       "  </tbody>\n",
       "</table>\n",
       "</div>"
      ],
      "text/plain": [
       "   calls  minutes  messages   mb_used  is_ultra\n",
       "0   40.0   311.90      83.0  19915.42         0\n",
       "1   85.0   516.75      56.0  22696.96         0\n",
       "2   77.0   467.66      86.0  21060.45         0\n",
       "3  106.0   745.53      81.0   8437.39         1\n",
       "4   66.0   418.74       1.0  14502.75         0\n",
       "5   58.0   344.56      21.0  15823.37         0\n",
       "6   57.0   431.64      20.0   3738.90         1\n",
       "7   15.0   132.40       6.0  21911.60         0\n",
       "8    7.0    43.39       3.0   2538.67         1\n",
       "9   90.0   665.41      38.0  17358.61         0"
      ]
     },
     "execution_count": 3,
     "metadata": {},
     "output_type": "execute_result"
    }
   ],
   "source": [
    "df = pd.read_csv('/datasets/users_behavior.csv')\n",
    "df.info()\n",
    "df.head(10)"
   ]
  },
  {
   "cell_type": "markdown",
   "metadata": {},
   "source": [
    "## Step 2. Data preparation"
   ]
  },
  {
   "cell_type": "markdown",
   "metadata": {},
   "source": [
    "***Data type replacement***"
   ]
  },
  {
   "cell_type": "code",
   "execution_count": 4,
   "metadata": {},
   "outputs": [],
   "source": [
    "calls['call_date'] = pd.to_datetime(calls['call_date'], format= '%Y-%m-%d') # Change value type to datetime64\n",
    "\n",
    "del internet['Unnamed: 0']\n",
    "internet['session_date'] = pd.to_datetime(internet['session_date'], format= '%Y-%m-%d') # Change value type to datetime64\n",
    "\n",
    "messages['message_date'] = pd.to_datetime(messages['message_date'], format= '%Y-%m-%d') # Change value type to datetime64\n",
    "\n",
    "users['churn_date'] = pd.to_datetime(users['churn_date'], format= '%Y-%m-%d') # Change value type to datetime64\n",
    "users['reg_date'] = pd.to_datetime(users['reg_date'], format= '%Y-%m-%d') # Change value type to datetime64"
   ]
  },
  {
   "cell_type": "markdown",
   "metadata": {},
   "source": [
    "***Correction of errors in the Date set***"
   ]
  },
  {
   "cell_type": "code",
   "execution_count": 5,
   "metadata": {
    "scrolled": false
   },
   "outputs": [
    {
     "name": "stdout",
     "output_type": "stream",
     "text": [
      "0.0    39613\n",
      "Name: duration, dtype: int64\n"
     ]
    },
    {
     "data": {
      "text/plain": [
       "Text(0.5, 1.0, 'Dependence of zero calls on the total number ')"
      ]
     },
     "execution_count": 5,
     "metadata": {},
     "output_type": "execute_result"
    },
    {
     "data": {
      "image/png": "[encoded data removed]",
      "text/plain": [
       "<Figure size 864x360 with 1 Axes>"
      ]
     },
     "metadata": {
      "needs_background": "light"
     },
     "output_type": "display_data"
    }
   ],
   "source": [
    "calls['month'] = pd.DatetimeIndex(calls['call_date']).month # add a column with the month value\n",
    "# Number of calls with duration equal to zero\n",
    "ziro = calls.loc[calls['duration'] == 0]\n",
    "print(ziro['duration'].value_counts())\n",
    "\n",
    "# Graph of the dependence of the number of calls and zero values\n",
    "calls.loc[calls['duration'] == 0, 'nulls_count'] = 1\n",
    "null_calls = calls.pivot_table(index='month', values=['id', 'nulls_count'], aggfunc='count')\n",
    "\n",
    "null_calls.pivot_table(index='id', values='nulls_count').plot(grid=True, figsize=(12, 5))\n",
    "plt.xlabel('Number of calls ')\n",
    "plt.ylabel('Calls duration 0')\n",
    "plt.title('Dependence of zero calls on the total number ')"
   ]
  },
  {
   "cell_type": "markdown",
   "metadata": {},
   "source": [
    "\n",
    "Появление нулевых звонков сичтематично. Все значения округляем в большую сторону."
   ]
  },
  {
   "cell_type": "code",
   "execution_count": 6,
   "metadata": {},
   "outputs": [],
   "source": [
    "calls.loc[(calls['duration'] == 0)] = 1"
   ]
  },
  {
   "cell_type": "code",
   "execution_count": 7,
   "metadata": {},
   "outputs": [
    {
     "name": "stdout",
     "output_type": "stream",
     "text": [
      "0.0    19598\n",
      "Name: mb_used, dtype: int64\n"
     ]
    },
    {
     "data": {
      "text/plain": [
       "Text(0.5, 1.0, 'Dependence of zero values on the total number ')"
      ]
     },
     "execution_count": 7,
     "metadata": {},
     "output_type": "execute_result"
    },
    {
     "data": {
      "image/png": "[encoded data removed]",
      "text/plain": [
       "<Figure size 864x360 with 1 Axes>"
      ]
     },
     "metadata": {
      "needs_background": "light"
     },
     "output_type": "display_data"
    }
   ],
   "source": [
    "internet['month'] = pd.DatetimeIndex(internet['session_date']).month # add a column with the month value\n",
    "# Number of traffic with duration equal to zero\n",
    "ziro = internet.loc[internet['mb_used'] == 0]\n",
    "print(ziro['mb_used'].value_counts())\n",
    "\n",
    "# Graph of the dependence of the amount of traffic and zero values\n",
    "internet.loc[internet['mb_used'] == 0, 'nulls_count'] = 1\n",
    "null_internet = internet.pivot_table(index='month', values=['id', 'nulls_count'], aggfunc='count')\n",
    "\n",
    "null_internet.pivot_table(index='id', values='nulls_count').plot(grid=True, figsize=(12, 5))\n",
    "plt.xlabel('Number of visits to the Internet ')\n",
    "plt.ylabel('Session duration 0')\n",
    "plt.title('Dependence of zero values on the total number ')"
   ]
  },
  {
   "cell_type": "code",
   "execution_count": 8,
   "metadata": {},
   "outputs": [],
   "source": [
    "# Everything is the same as with calls\n",
    "internet.loc[(internet['mb_used'] == 0)] = 1"
   ]
  },
  {
   "cell_type": "markdown",
   "metadata": {},
   "source": [
    "***Values for each user***"
   ]
  },
  {
   "cell_type": "code",
   "execution_count": 9,
   "metadata": {},
   "outputs": [],
   "source": [
    "# Pivot call table\n",
    "calls_users = calls.merge(users, on='user_id', how='inner')\n",
    "\n",
    "calls_group = calls_users.pivot_table(values=['first_name', 'duration'], index=['user_id', 'month'],\n",
    "                       aggfunc={'first_name': 'count', 'duration': 'sum'})\n",
    "calls_group.columns = ['duration', 'calls']\n",
    "\n",
    "\n",
    "# Pivot table of messages\n",
    "messages['month'] = pd.DatetimeIndex(messages['message_date']).month # add a column with the month value\n",
    "messages_users = messages.merge(users, on='user_id', how='inner')\n",
    "\n",
    "messages_group = messages_users.pivot_table(values='first_name', index=['user_id', 'month'],\n",
    "                       aggfunc={'first_name': 'count'})\n",
    "messages_group.columns = ['messages']\n",
    "\n",
    "\n",
    "# internet pivot table\n",
    "internet_users = internet.merge(users, on='user_id', how='inner')\n",
    "\n",
    "internet_group = internet_users.pivot_table(values=['first_name', 'mb_used'], index=['user_id', 'month'],\n",
    "                       aggfunc={'first_name': 'count', 'mb_used': 'sum'})\n",
    "internet_group.columns = ['mb_used', 'internet']\n"
   ]
  },
  {
   "cell_type": "code",
   "execution_count": 10,
   "metadata": {},
   "outputs": [
    {
     "data": {
      "text/html": [
       "<div>\n",
       "<style scoped>\n",
       "    .dataframe tbody tr th:only-of-type {\n",
       "        vertical-align: middle;\n",
       "    }\n",
       "\n",
       "    .dataframe tbody tr th {\n",
       "        vertical-align: top;\n",
       "    }\n",
       "\n",
       "    .dataframe thead th {\n",
       "        text-align: right;\n",
       "    }\n",
       "</style>\n",
       "<table border=\"1\" class=\"dataframe\">\n",
       "  <thead>\n",
       "    <tr style=\"text-align: right;\">\n",
       "      <th></th>\n",
       "      <th></th>\n",
       "      <th>mb_used</th>\n",
       "      <th>internet</th>\n",
       "      <th>duration</th>\n",
       "      <th>calls</th>\n",
       "      <th>messages</th>\n",
       "    </tr>\n",
       "    <tr>\n",
       "      <th>user_id</th>\n",
       "      <th>month</th>\n",
       "      <th></th>\n",
       "      <th></th>\n",
       "      <th></th>\n",
       "      <th></th>\n",
       "      <th></th>\n",
       "    </tr>\n",
       "  </thead>\n",
       "  <tbody>\n",
       "    <tr>\n",
       "      <th rowspan=\"5\" valign=\"top\">1000</th>\n",
       "      <th>5</th>\n",
       "      <td>4.0</td>\n",
       "      <td>2253.49</td>\n",
       "      <td>150.06</td>\n",
       "      <td>17.0</td>\n",
       "      <td>22.0</td>\n",
       "    </tr>\n",
       "    <tr>\n",
       "      <th>6</th>\n",
       "      <td>44.0</td>\n",
       "      <td>23233.77</td>\n",
       "      <td>158.90</td>\n",
       "      <td>28.0</td>\n",
       "      <td>60.0</td>\n",
       "    </tr>\n",
       "    <tr>\n",
       "      <th>7</th>\n",
       "      <td>28.0</td>\n",
       "      <td>14003.64</td>\n",
       "      <td>318.80</td>\n",
       "      <td>41.0</td>\n",
       "      <td>75.0</td>\n",
       "    </tr>\n",
       "    <tr>\n",
       "      <th>8</th>\n",
       "      <td>27.0</td>\n",
       "      <td>14055.93</td>\n",
       "      <td>389.87</td>\n",
       "      <td>42.0</td>\n",
       "      <td>81.0</td>\n",
       "    </tr>\n",
       "    <tr>\n",
       "      <th>9</th>\n",
       "      <td>25.0</td>\n",
       "      <td>14568.91</td>\n",
       "      <td>440.14</td>\n",
       "      <td>46.0</td>\n",
       "      <td>57.0</td>\n",
       "    </tr>\n",
       "    <tr>\n",
       "      <th>...</th>\n",
       "      <th>...</th>\n",
       "      <td>...</td>\n",
       "      <td>...</td>\n",
       "      <td>...</td>\n",
       "      <td>...</td>\n",
       "      <td>...</td>\n",
       "    </tr>\n",
       "    <tr>\n",
       "      <th>1273</th>\n",
       "      <th>12</th>\n",
       "      <td>NaN</td>\n",
       "      <td>NaN</td>\n",
       "      <td>241.59</td>\n",
       "      <td>38.0</td>\n",
       "      <td>39.0</td>\n",
       "    </tr>\n",
       "    <tr>\n",
       "      <th>1365</th>\n",
       "      <th>10</th>\n",
       "      <td>NaN</td>\n",
       "      <td>NaN</td>\n",
       "      <td>40.85</td>\n",
       "      <td>5.0</td>\n",
       "      <td>1.0</td>\n",
       "    </tr>\n",
       "    <tr>\n",
       "      <th>1377</th>\n",
       "      <th>2</th>\n",
       "      <td>NaN</td>\n",
       "      <td>NaN</td>\n",
       "      <td>168.55</td>\n",
       "      <td>20.0</td>\n",
       "      <td>2.0</td>\n",
       "    </tr>\n",
       "    <tr>\n",
       "      <th>1392</th>\n",
       "      <th>2</th>\n",
       "      <td>NaN</td>\n",
       "      <td>NaN</td>\n",
       "      <td>11.96</td>\n",
       "      <td>2.0</td>\n",
       "      <td>3.0</td>\n",
       "    </tr>\n",
       "    <tr>\n",
       "      <th>1446</th>\n",
       "      <th>8</th>\n",
       "      <td>NaN</td>\n",
       "      <td>NaN</td>\n",
       "      <td>46.98</td>\n",
       "      <td>4.0</td>\n",
       "      <td>1.0</td>\n",
       "    </tr>\n",
       "  </tbody>\n",
       "</table>\n",
       "<p>3214 rows × 5 columns</p>\n",
       "</div>"
      ],
      "text/plain": [
       "               mb_used  internet  duration  calls  messages\n",
       "user_id month                                              \n",
       "1000    5          4.0   2253.49    150.06   17.0      22.0\n",
       "        6         44.0  23233.77    158.90   28.0      60.0\n",
       "        7         28.0  14003.64    318.80   41.0      75.0\n",
       "        8         27.0  14055.93    389.87   42.0      81.0\n",
       "        9         25.0  14568.91    440.14   46.0      57.0\n",
       "...                ...       ...       ...    ...       ...\n",
       "1273    12         NaN       NaN    241.59   38.0      39.0\n",
       "1365    10         NaN       NaN     40.85    5.0       1.0\n",
       "1377    2          NaN       NaN    168.55   20.0       2.0\n",
       "1392    2          NaN       NaN     11.96    2.0       3.0\n",
       "1446    8          NaN       NaN     46.98    4.0       1.0\n",
       "\n",
       "[3214 rows x 5 columns]"
      ]
     },
     "execution_count": 10,
     "metadata": {},
     "output_type": "execute_result"
    }
   ],
   "source": [
    "final_data = internet_group.merge(calls_group,on=['user_id', 'month'], how='outer')\n",
    "final_data = final_data.merge(messages_group,on=['user_id', 'month'], how='outer')\n",
    "final_data"
   ]
  },
  {
   "cell_type": "code",
   "execution_count": 11,
   "metadata": {},
   "outputs": [
    {
     "name": "stdout",
     "output_type": "stream",
     "text": [
      "Number of clients: 498\n"
     ]
    }
   ],
   "source": [
    "print(f'Number of clients: {final_data.reset_index().user_id.nunique()}')"
   ]
  },
  {
   "cell_type": "code",
   "execution_count": 12,
   "metadata": {},
   "outputs": [
    {
     "data": {
      "text/html": [
       "<div>\n",
       "<style scoped>\n",
       "    .dataframe tbody tr th:only-of-type {\n",
       "        vertical-align: middle;\n",
       "    }\n",
       "\n",
       "    .dataframe tbody tr th {\n",
       "        vertical-align: top;\n",
       "    }\n",
       "\n",
       "    .dataframe thead th {\n",
       "        text-align: right;\n",
       "    }\n",
       "</style>\n",
       "<table border=\"1\" class=\"dataframe\">\n",
       "  <thead>\n",
       "    <tr style=\"text-align: right;\">\n",
       "      <th></th>\n",
       "      <th></th>\n",
       "      <th>mb_used</th>\n",
       "      <th>internet</th>\n",
       "      <th>duration</th>\n",
       "      <th>calls</th>\n",
       "      <th>messages</th>\n",
       "      <th>tariff</th>\n",
       "    </tr>\n",
       "    <tr>\n",
       "      <th>user_id</th>\n",
       "      <th>month</th>\n",
       "      <th></th>\n",
       "      <th></th>\n",
       "      <th></th>\n",
       "      <th></th>\n",
       "      <th></th>\n",
       "      <th></th>\n",
       "    </tr>\n",
       "  </thead>\n",
       "  <tbody>\n",
       "    <tr>\n",
       "      <th rowspan=\"5\" valign=\"top\">1000</th>\n",
       "      <th>5</th>\n",
       "      <td>4.0</td>\n",
       "      <td>2253.49</td>\n",
       "      <td>150.06</td>\n",
       "      <td>17.0</td>\n",
       "      <td>22.0</td>\n",
       "      <td>ultra</td>\n",
       "    </tr>\n",
       "    <tr>\n",
       "      <th>6</th>\n",
       "      <td>44.0</td>\n",
       "      <td>23233.77</td>\n",
       "      <td>158.90</td>\n",
       "      <td>28.0</td>\n",
       "      <td>60.0</td>\n",
       "      <td>ultra</td>\n",
       "    </tr>\n",
       "    <tr>\n",
       "      <th>7</th>\n",
       "      <td>28.0</td>\n",
       "      <td>14003.64</td>\n",
       "      <td>318.80</td>\n",
       "      <td>41.0</td>\n",
       "      <td>75.0</td>\n",
       "      <td>ultra</td>\n",
       "    </tr>\n",
       "    <tr>\n",
       "      <th>8</th>\n",
       "      <td>27.0</td>\n",
       "      <td>14055.93</td>\n",
       "      <td>389.87</td>\n",
       "      <td>42.0</td>\n",
       "      <td>81.0</td>\n",
       "      <td>ultra</td>\n",
       "    </tr>\n",
       "    <tr>\n",
       "      <th>9</th>\n",
       "      <td>25.0</td>\n",
       "      <td>14568.91</td>\n",
       "      <td>440.14</td>\n",
       "      <td>46.0</td>\n",
       "      <td>57.0</td>\n",
       "      <td>ultra</td>\n",
       "    </tr>\n",
       "    <tr>\n",
       "      <th>...</th>\n",
       "      <th>...</th>\n",
       "      <td>...</td>\n",
       "      <td>...</td>\n",
       "      <td>...</td>\n",
       "      <td>...</td>\n",
       "      <td>...</td>\n",
       "      <td>...</td>\n",
       "    </tr>\n",
       "    <tr>\n",
       "      <th>1273</th>\n",
       "      <th>12</th>\n",
       "      <td>0.0</td>\n",
       "      <td>NaN</td>\n",
       "      <td>241.59</td>\n",
       "      <td>38.0</td>\n",
       "      <td>39.0</td>\n",
       "      <td>ultra</td>\n",
       "    </tr>\n",
       "    <tr>\n",
       "      <th>1365</th>\n",
       "      <th>10</th>\n",
       "      <td>0.0</td>\n",
       "      <td>NaN</td>\n",
       "      <td>40.85</td>\n",
       "      <td>5.0</td>\n",
       "      <td>1.0</td>\n",
       "      <td>smart</td>\n",
       "    </tr>\n",
       "    <tr>\n",
       "      <th>1377</th>\n",
       "      <th>2</th>\n",
       "      <td>0.0</td>\n",
       "      <td>NaN</td>\n",
       "      <td>168.55</td>\n",
       "      <td>20.0</td>\n",
       "      <td>2.0</td>\n",
       "      <td>ultra</td>\n",
       "    </tr>\n",
       "    <tr>\n",
       "      <th>1392</th>\n",
       "      <th>2</th>\n",
       "      <td>0.0</td>\n",
       "      <td>NaN</td>\n",
       "      <td>11.96</td>\n",
       "      <td>2.0</td>\n",
       "      <td>3.0</td>\n",
       "      <td>ultra</td>\n",
       "    </tr>\n",
       "    <tr>\n",
       "      <th>1446</th>\n",
       "      <th>8</th>\n",
       "      <td>0.0</td>\n",
       "      <td>NaN</td>\n",
       "      <td>46.98</td>\n",
       "      <td>4.0</td>\n",
       "      <td>1.0</td>\n",
       "      <td>smart</td>\n",
       "    </tr>\n",
       "  </tbody>\n",
       "</table>\n",
       "<p>3214 rows × 6 columns</p>\n",
       "</div>"
      ],
      "text/plain": [
       "               mb_used  internet  duration  calls  messages tariff\n",
       "user_id month                                                     \n",
       "1000    5          4.0   2253.49    150.06   17.0      22.0  ultra\n",
       "        6         44.0  23233.77    158.90   28.0      60.0  ultra\n",
       "        7         28.0  14003.64    318.80   41.0      75.0  ultra\n",
       "        8         27.0  14055.93    389.87   42.0      81.0  ultra\n",
       "        9         25.0  14568.91    440.14   46.0      57.0  ultra\n",
       "...                ...       ...       ...    ...       ...    ...\n",
       "1273    12         0.0       NaN    241.59   38.0      39.0  ultra\n",
       "1365    10         0.0       NaN     40.85    5.0       1.0  smart\n",
       "1377    2          0.0       NaN    168.55   20.0       2.0  ultra\n",
       "1392    2          0.0       NaN     11.96    2.0       3.0  ultra\n",
       "1446    8          0.0       NaN     46.98    4.0       1.0  smart\n",
       "\n",
       "[3214 rows x 6 columns]"
      ]
     },
     "metadata": {},
     "output_type": "display_data"
    }
   ],
   "source": [
    "# replace forgiven values with zeros\n",
    "final_data.loc[final_data['duration'].isna(), 'duration'] = 0\n",
    "final_data.loc[final_data['messages'].isna(), 'messages'] = 0\n",
    "final_data.loc[final_data['mb_used'].isna(), 'mb_used'] = 0\n",
    "\n",
    "# Adding a tariff\n",
    "for user in final_data.index:\n",
    "     final_data.loc[user, 'tariff'] = users.loc[user[0]-1000, 'tariff']\n",
    "display(final_data)"
   ]
  },
  {
   "cell_type": "code",
   "execution_count": 13,
   "metadata": {},
   "outputs": [],
   "source": [
    "'''\n",
    "\n",
    "The function returns how much the company has from each user by values\n",
    "\n",
    "messages, mb_used, tariff, duration using the rules:\n",
    "\n",
    "Subtract the free limit from all, messages and Internet traffic and calls.\n",
    "\n",
    "the balance over the limit will be multiplied by the values ​​from the tariff plan.\n",
    "\n",
    "Then add the subscription fee.\n",
    "\n",
    "'''\n",
    "def user_pay(row):\n",
    "    messages = row['messages']\n",
    "    mb_used = row['mb_used']\n",
    "    tariff = row['tariff']\n",
    "    duration = row['duration']\n",
    "    \n",
    "    if tariff == 'smart':\n",
    "        extra_duration = duration - tariffs.loc[0, 'minutes_included']\n",
    "        extra_mb = mb_used - tariffs.loc[0, 'mb_per_month_included']\n",
    "        extra_messages = messages - tariffs.loc[0, 'messages_included']\n",
    "        \n",
    "        if extra_duration < 0:\n",
    "            extra_duration = 0\n",
    "        if extra_mb < 0:\n",
    "            extra_mb=0\n",
    "        if extra_messages < 0:\n",
    "            extra_messages = 0\n",
    "        \n",
    "        mes1 = tariffs.loc[0, 'rub_per_message'] * extra_messages\n",
    "        traf1 = (tariffs.loc[0, 'rub_per_gb'] / 1024) * extra_mb\n",
    "        min1 = tariffs.loc[0, 'rub_per_minute'] * extra_duration\n",
    "        \n",
    "        return mes1 + traf1 + min1 + tariffs.loc[0, 'rub_monthly_fee']\n",
    "                  \n",
    "    else:\n",
    "        extra_duration = duration - tariffs.loc[1, 'minutes_included']\n",
    "        extra_mb = mb_used - tariffs.loc[1, 'mb_per_month_included']\n",
    "        extra_messages = messages - tariffs.loc[1, 'messages_included']\n",
    "                \n",
    "        if extra_duration < 0:\n",
    "            extra_duration = 0\n",
    "        if extra_mb < 0:\n",
    "            extra_mb=0\n",
    "        if extra_messages < 0:\n",
    "            extra_messages = 0\n",
    "        \n",
    "        mes2 = tariffs.loc[1, 'rub_per_message'] * extra_messages\n",
    "        traf2 = (tariffs.loc[1, 'rub_per_gb'] / 1024) * extra_mb\n",
    "        min2 = tariffs.loc[1, 'rub_per_minute'] * extra_duration\n",
    "        \n",
    "        return mes2 + traf2 + min2 + tariffs.loc[1, 'rub_monthly_fee']\n",
    "                  \n",
    "\n",
    "final_data['user_pays'] = final_data.apply(user_pay, axis=1)"
   ]
  },
  {
   "cell_type": "markdown",
   "metadata": {},
   "source": [
    "## Step 3. Data Analysis"
   ]
  },
  {
   "cell_type": "code",
   "execution_count": 14,
   "metadata": {},
   "outputs": [
    {
     "data": {
      "text/html": [
       "<div>\n",
       "<style scoped>\n",
       "    .dataframe tbody tr th:only-of-type {\n",
       "        vertical-align: middle;\n",
       "    }\n",
       "\n",
       "    .dataframe tbody tr th {\n",
       "        vertical-align: top;\n",
       "    }\n",
       "\n",
       "    .dataframe thead th {\n",
       "        text-align: right;\n",
       "    }\n",
       "</style>\n",
       "<table border=\"1\" class=\"dataframe\">\n",
       "  <thead>\n",
       "    <tr style=\"text-align: right;\">\n",
       "      <th></th>\n",
       "      <th>duration</th>\n",
       "      <th>mb_used</th>\n",
       "      <th>messages</th>\n",
       "      <th>user_pays</th>\n",
       "      <th>tariff</th>\n",
       "    </tr>\n",
       "    <tr>\n",
       "      <th>user_id</th>\n",
       "      <th></th>\n",
       "      <th></th>\n",
       "      <th></th>\n",
       "      <th></th>\n",
       "      <th></th>\n",
       "    </tr>\n",
       "  </thead>\n",
       "  <tbody>\n",
       "    <tr>\n",
       "      <th>1000</th>\n",
       "      <td>318.920</td>\n",
       "      <td>26.0</td>\n",
       "      <td>65.0</td>\n",
       "      <td>1950.0</td>\n",
       "      <td>ultra</td>\n",
       "    </tr>\n",
       "    <tr>\n",
       "      <th>1001</th>\n",
       "      <td>399.730</td>\n",
       "      <td>41.0</td>\n",
       "      <td>0.0</td>\n",
       "      <td>550.0</td>\n",
       "      <td>smart</td>\n",
       "    </tr>\n",
       "    <tr>\n",
       "      <th>1002</th>\n",
       "      <td>204.750</td>\n",
       "      <td>44.0</td>\n",
       "      <td>11.0</td>\n",
       "      <td>550.0</td>\n",
       "      <td>smart</td>\n",
       "    </tr>\n",
       "    <tr>\n",
       "      <th>1003</th>\n",
       "      <td>775.390</td>\n",
       "      <td>21.0</td>\n",
       "      <td>83.0</td>\n",
       "      <td>1950.0</td>\n",
       "      <td>ultra</td>\n",
       "    </tr>\n",
       "    <tr>\n",
       "      <th>1004</th>\n",
       "      <td>123.935</td>\n",
       "      <td>33.0</td>\n",
       "      <td>154.5</td>\n",
       "      <td>1950.0</td>\n",
       "      <td>ultra</td>\n",
       "    </tr>\n",
       "  </tbody>\n",
       "</table>\n",
       "</div>"
      ],
      "text/plain": [
       "         duration  mb_used  messages  user_pays tariff\n",
       "user_id                                               \n",
       "1000      318.920     26.0      65.0     1950.0  ultra\n",
       "1001      399.730     41.0       0.0      550.0  smart\n",
       "1002      204.750     44.0      11.0      550.0  smart\n",
       "1003      775.390     21.0      83.0     1950.0  ultra\n",
       "1004      123.935     33.0     154.5     1950.0  ultra"
      ]
     },
     "execution_count": 14,
     "metadata": {},
     "output_type": "execute_result"
    }
   ],
   "source": [
    "# How many messages, internet and calls each user needs on average\n",
    "median_found = final_data.pivot_table(index='user_id', values=['duration', 'messages', 'mb_used', 'user_pays'], aggfunc='median')\n",
    "for user_id in users['user_id']:\n",
    "     median_found.loc[user_id, 'tariff'] = users.loc[user_id-1000, 'tariff']\n",
    "median_found.head()\n"
   ]
  },
  {
   "cell_type": "code",
   "execution_count": 15,
   "metadata": {},
   "outputs": [
    {
     "name": "stdout",
     "output_type": "stream",
     "text": [
      "duration      506.9225\n",
      "mb_used        37.0000\n",
      "messages       47.5000\n",
      "user_pays    1950.0000\n",
      "dtype: float64\n",
      "duration     81554.883453\n",
      "mb_used        281.901844\n",
      "messages      2407.883161\n",
      "user_pays        0.000000\n",
      "dtype: float64\n",
      "duration     285.578156\n",
      "mb_used       16.789933\n",
      "messages      49.070186\n",
      "user_pays      0.000000\n",
      "dtype: float64\n",
      "duration     415.39\n",
      "mb_used       44.00\n",
      "messages      28.50\n",
      "user_pays    550.00\n",
      "dtype: float64\n",
      "duration     22883.670708\n",
      "mb_used        113.133553\n",
      "messages       782.354957\n",
      "user_pays    38968.244981\n",
      "dtype: float64\n",
      "duration     151.273496\n",
      "mb_used       10.636426\n",
      "messages      27.970609\n",
      "user_pays    197.403761\n",
      "dtype: float64\n"
     ]
    }
   ],
   "source": [
    "median_found.dropna(subset=['duration'], inplace=True)\n",
    "ultra = median_found[median_found['tariff'] == 'ultra']\n",
    "smart = median_found[median_found['tariff'] == 'smart']\n",
    "print(ultra.median()) # median\n",
    "print(np.var(ultra)) # sample variance\n",
    "print(np.std(ultra)) # sample standard deviation\n",
    "print(smart.median()) # median\n",
    "print(np.var(smart)) # sample variance\n",
    "print(np.std(smart)) # sample standard deviation"
   ]
  },
  {
   "cell_type": "markdown",
   "metadata": {},
   "source": [
    "In all respects, the Ultra tariff is ahead of its competitor. The median is shifted upwards. It also has a large dispersion."
   ]
  },
  {
   "cell_type": "code",
   "execution_count": 16,
   "metadata": {},
   "outputs": [
    {
     "data": {
      "image/png": "[encoded data removed]",
      "text/plain": [
       "<Figure size 432x288 with 1 Axes>"
      ]
     },
     "metadata": {
      "needs_background": "light"
     },
     "output_type": "display_data"
    }
   ],
   "source": [
    "plt.title('number of minutes ')\n",
    "x = ultra['duration']\n",
    "y = smart['duration']\n",
    "\n",
    "plt.hist(x, bins=30, alpha=0.5, label='ultra')\n",
    "plt.hist(y, bins=30, alpha=0.5, label='smart')\n",
    "plt.show()"
   ]
  },
  {
   "cell_type": "code",
   "execution_count": 17,
   "metadata": {
    "scrolled": true
   },
   "outputs": [
    {
     "data": {
      "image/png": "[encoded data removed]",
      "text/plain": [
       "<Figure size 432x288 with 1 Axes>"
      ]
     },
     "metadata": {
      "needs_background": "light"
     },
     "output_type": "display_data"
    }
   ],
   "source": [
    "plt.title('number of megabytes ')\n",
    "x = ultra['mb_used']\n",
    "y = smart['mb_used']\n",
    "\n",
    "plt.hist(x, bins=30, alpha=0.5, label='ultra')\n",
    "plt.hist(y, bins=30, alpha=0.5, label='smart')\n",
    "plt.show()"
   ]
  },
  {
   "cell_type": "code",
   "execution_count": 18,
   "metadata": {},
   "outputs": [
    {
     "data": {
      "image/png": "[encoded data removed]",
      "text/plain": [
       "<Figure size 432x288 with 1 Axes>"
      ]
     },
     "metadata": {
      "needs_background": "light"
     },
     "output_type": "display_data"
    }
   ],
   "source": [
    "plt.title('number of posts ')\n",
    "x = ultra['messages']\n",
    "y = smart['messages']\n",
    "\n",
    "plt.hist(x, bins=30, alpha=0.5, label='ultra')\n",
    "plt.hist(y, bins=30, alpha=0.5, label='smart')\n",
    "plt.show()"
   ]
  },
  {
   "cell_type": "markdown",
   "metadata": {},
   "source": [
    "Cheaper fare has more emissions. It seems to me that when buying a cheap tariff, people try not to go beyond the scope of the package, but they don’t care about the expensive one. because it is very difficult to spend the whole package."
   ]
  },
  {
   "cell_type": "markdown",
   "metadata": {},
   "source": [
    "## Step 4. Hypothesis testing"
   ]
  },
  {
   "cell_type": "markdown",
   "metadata": {},
   "source": [
    "***We are testing the hypothesis that the averages of two independent sets are equal, the average amount of money spent in 2 ultra and smart tariffs***\n",
    "- H1 = the amount of money spent in 2 ultra and smart tariffs is equal to\n",
    "- H0 = amount of money spent in 2 ultra and smart tariffs are different"
   ]
  },
  {
   "cell_type": "code",
   "execution_count": 19,
   "metadata": {},
   "outputs": [
    {
     "name": "stdout",
     "output_type": "stream",
     "text": [
      "p-value: 5.777676548056522e-284\n",
      "Reject the null hypothesis\n"
     ]
    },
    {
     "name": "stderr",
     "output_type": "stream",
     "text": [
      "/tmp/ipykernel_541/3532516097.py:7: RuntimeWarning: Precision loss occurred in moment calculation due to catastrophic cancellation. This occurs when the data are nearly identical. Results may be unreliable.\n",
      "  results = st.ttest_ind(\n"
     ]
    }
   ],
   "source": [
    "ult = ultra['user_pays']\n",
    "smt = smart['user_pays']\n",
    "\n",
    "\n",
    "alpha = .05\n",
    "\n",
    "results = st.ttest_ind(\n",
    "    ult,\n",
    "     smt)\n",
    "\n",
    "print('p-value:', results.pvalue)\n",
    "\n",
    "if results.pvalue < alpha:\n",
    "     print(\"Reject the null hypothesis\")\n",
    "else:\n",
    "     print(\"Failed to reject null hypothesis\")"
   ]
  },
  {
   "cell_type": "code",
   "execution_count": 20,
   "metadata": {},
   "outputs": [
    {
     "name": "stdout",
     "output_type": "stream",
     "text": [
      "median: 1950.0\n",
      "median: 550.0 \n",
      "\n",
      "sample variance: 0.0\n",
      "sample variance: 38968.24498108347 \n",
      "\n",
      "sample standard deviation: 0.0\n",
      "sample standard deviation: 197.40376131442753\n"
     ]
    }
   ],
   "source": [
    "print('median:', ult.median())\n",
    "print('median:', smt.median(),'\\n')\n",
    "print('sample variance:', np.var(ult)) # sample variance\n",
    "print('sample variance:', np.var(smt),'\\n') # sample variance\n",
    "print('sample standard deviation:', np.std(ult)) # sample standard deviation\n",
    "print('sample standard deviation:', np.std(smt)) # sample standard deviation"
   ]
  },
  {
   "cell_type": "code",
   "execution_count": 21,
   "metadata": {},
   "outputs": [
    {
     "data": {
      "image/png": "[encoded data removed]",
      "text/plain": [
       "<Figure size 432x288 with 1 Axes>"
      ]
     },
     "metadata": {
      "needs_background": "light"
     },
     "output_type": "display_data"
    }
   ],
   "source": [
    "plt.title('average fare price')\n",
    "x=ult\n",
    "y=smt\n",
    "\n",
    "plt.hist(y, alpha=0.5, label='ultra')\n",
    "plt.hist(x, alpha=0.5, label='smart')\n",
    "plt.show()"
   ]
  },
  {
   "cell_type": "markdown",
   "metadata": {},
   "source": [
    "The average value differs by almost 4 times. We can definitely say that the Ulra tariff is more profitable for the company."
   ]
  },
  {
   "cell_type": "markdown",
   "metadata": {},
   "source": [
    "***We are testing the hypothesis about the equality of the averages of two independent sets of the average amount of money spent by users in Moscow and other cities***\n",
    "- H0 = the average amount of money spent by users in Moscow and other cities is\n",
    "- H1 = the average amount of money spent by users of Moscow and other cities is different"
   ]
  },
  {
   "cell_type": "code",
   "execution_count": 22,
   "metadata": {},
   "outputs": [
    {
     "name": "stdout",
     "output_type": "stream",
     "text": [
      "p-value: nan\n",
      "Failed to reject null hypothesis\n"
     ]
    }
   ],
   "source": [
    "for user in final_data.index:\n",
    "     final_data.loc[user, 'city'] = users.loc[user[0]-1000, 'city']\n",
    "    \n",
    "moscow = final_data.query('city == \"Moscow\"')['user_pays']\n",
    "other = final_data.query('city != \"Moscow\"')['user_pays']\n",
    "\n",
    "alpha = .05\n",
    "\n",
    "results = st.ttest_ind(\n",
    "     moscow,\n",
    "     other)\n",
    "\n",
    "print('p-value:', results.pvalue)\n",
    "\n",
    "if results.pvalue < alpha:\n",
    "     print(\"Reject the null hypothesis\")\n",
    "else:\n",
    "     print(\"Failed to reject null hypothesis\")"
   ]
  },
  {
   "cell_type": "code",
   "execution_count": 23,
   "metadata": {},
   "outputs": [
    {
     "name": "stdout",
     "output_type": "stream",
     "text": [
      "median: nan\n",
      "median: 640.3000000000001 \n",
      "\n",
      "sample variance: nan\n",
      "sample variance: 387995.4242249586 \n",
      "\n",
      "sample standard deviation: nan\n",
      "sample standard deviation: 622.8927871030123\n"
     ]
    }
   ],
   "source": [
    "print('median:', moscow.median())\n",
    "print('median:', other.median(),'\\n')\n",
    "print('sample variance:',np.var(moscow)) # sample variance\n",
    "print('sample variance:',np.var(other),'\\n') # sample variance\n",
    "print('sample standard deviation:',np.std(moscow)) # sample standard deviation\n",
    "print('sample standard deviation:',np.std(other)) # sample standard deviation"
   ]
  },
  {
   "cell_type": "code",
   "execution_count": 24,
   "metadata": {},
   "outputs": [
    {
     "data": {
      "image/png": "[encoded data removed]",
      "text/plain": [
       "<Figure size 432x288 with 1 Axes>"
      ]
     },
     "metadata": {
      "needs_background": "light"
     },
     "output_type": "display_data"
    }
   ],
   "source": [
    "plt.title('average revenue')\n",
    "x = moscow\n",
    "y = other\n",
    "\n",
    "plt.hist(x, alpha=0.5, label='moscow')\n",
    "plt.hist(y, alpha=0.5, label='other')\n",
    "plt.show()"
   ]
  },
  {
   "cell_type": "markdown",
   "metadata": {},
   "source": [
    "The average revenue of users from Moscow differs from the revenue of users from other regions. Since we reject the null hypothesis.\n",
    "I don't think the difference is that big.\n",
    "In both cases, I used the hypothesis that the means of the two populations are equal"
   ]
  },
  {
   "cell_type": "markdown",
   "metadata": {},
   "source": [
    "## Step 5. General conclusion"
   ]
  },
  {
   "cell_type": "markdown",
   "metadata": {},
   "source": [
    "The ultra tariff brings more than smart about 4 times 1950 against 556 rubles.\n",
    "In Moscow, people spend about the same amount on communications as in the regions.\n",
    "Users of the ultra tariff do not have time to use the entire package, but subscribers using the smart tariff, on the contrary, almost all buy additional services.\n",
    "\n",
    "\n"
   ]
  },
  {
   "cell_type": "markdown",
   "metadata": {},
   "source": [
    "***The guys from the marketing department can be recommended to promote the ultra tariff)***"
   ]
  },
  {
   "cell_type": "markdown",
   "metadata": {},
   "source": [
    "## Step 6. Splitting data into samples"
   ]
  },
  {
   "cell_type": "code",
   "execution_count": 25,
   "metadata": {},
   "outputs": [],
   "source": [
    "from sklearn.model_selection import train_test_split\n",
    "\n",
    "\n",
    "\n",
    "# Separation of training set and validation set\n",
    "train, test_valid_features = train_test_split(df, test_size=40, random_state=12345)\n",
    "test, valid = train_test_split(test_valid_features, test_size=20, random_state=12345)\n",
    "\n",
    "\n",
    "# variables for features and target feature\n",
    "features_train = train.drop(['is_ultra'], axis=1)\n",
    "target_train = train['is_ultra']\n",
    "\n",
    "features_valid = valid.drop(['is_ultra'], axis=1)\n",
    "target_valid = valid['is_ultra']\n",
    "\n",
    "features_test = test.drop(['is_ultra'], axis=1)\n",
    "target_test = test['is_ultra']"
   ]
  },
  {
   "cell_type": "markdown",
   "metadata": {},
   "source": [
    "***I divided the data into a ratio of 60-20-20.***\n",
    "\n",
    "- for training 60%\n",
    "- validation and test sets of 20\n",
    "- the model will be trained on the last column"
   ]
  },
  {
   "cell_type": "markdown",
   "metadata": {},
   "source": [
    "## Step 7. Model research"
   ]
  },
  {
   "cell_type": "code",
   "execution_count": 26,
   "metadata": {},
   "outputs": [
    {
     "name": "stdout",
     "output_type": "stream",
     "text": [
      "Accuracy: 0.8\n",
      "Best model: DecisionTreeClassifier(max_depth=7, random_state=12345)\n",
      "CPU times: user 72 ms, sys: 3.96 ms, total: 75.9 ms\n",
      "Wall time: 74.7 ms\n"
     ]
    }
   ],
   "source": [
    "%%time\n",
    "\n",
    "best_model = None\n",
    "best_result = 0\n",
    "for depth in range(1, 10): # tree depth\n",
    "    model1 = DecisionTreeClassifier(random_state=12345, max_depth = depth)\n",
    "    model1.fit(features_train, target_train) # model training\n",
    "    predictions1 = model1.predict(features_valid) # Predictions\n",
    "    result1 = accuracy_score(target_valid, predictions1) # Check\n",
    "    if result1 > best_result:\n",
    "        best_model = model1 # best model\n",
    "        best_result = result1 # best accuracy\n",
    "        \n",
    "print(\"Accuracy:\", best_result)\n",
    "print(\"Best model:\", best_model)"
   ]
  },
  {
   "cell_type": "markdown",
   "metadata": {},
   "source": [
    "***Decision tree model***\n",
    "\n",
    "- The model gives a good result, but it is very easy to retrain\n",
    "- average speed\n",
    "- the optimal depth of the tree is 7"
   ]
  },
  {
   "cell_type": "code",
   "execution_count": 27,
   "metadata": {},
   "outputs": [
    {
     "name": "stdout",
     "output_type": "stream",
     "text": [
      "Accuracy: 0.8\n",
      "Best model: RandomForestClassifier(n_estimators=5, random_state=12345)\n",
      "CPU times: user 1.07 s, sys: 3.34 ms, total: 1.07 s\n",
      "Wall time: 1.08 s\n"
     ]
    }
   ],
   "source": [
    "%%time\n",
    "\n",
    "best_model = None\n",
    "best_result = 0\n",
    "for est in range(1, 20, 1):\n",
    "    model2 = RandomForestClassifier(random_state=12345, n_estimators=est)\n",
    "    model2.fit(features_train, target_train)\n",
    "    predictions2 = model2.predict(features_valid)\n",
    "    result2 = accuracy_score(target_valid, predictions2)\n",
    "    if result2 > best_result:\n",
    "        best_model = model2# best model\n",
    "        best_result = result2# best value of accuracy metric on validation data\n",
    "\n",
    "print(\"Accuracy:\", best_result)\n",
    "print(\"Best model:\", best_model)"
   ]
  },
  {
   "cell_type": "markdown",
   "metadata": {},
   "source": [
    "***Random Forest***\n",
    "- takes a very long time\n",
    "- best result\n",
    "- optimal number of trees 5"
   ]
  },
  {
   "cell_type": "code",
   "execution_count": 28,
   "metadata": {},
   "outputs": [
    {
     "name": "stdout",
     "output_type": "stream",
     "text": [
      "Accuracy: 0.75\n",
      "CPU times: user 166 ms, sys: 222 ms, total: 388 ms\n",
      "Wall time: 343 ms\n"
     ]
    }
   ],
   "source": [
    "%%time\n",
    "\n",
    "model3 = LogisticRegression(random_state=12345) # logistic regression model with random_state=12345\n",
    "model3.fit(features_train, target_train) # model training\n",
    "predictions3 = model3.predict(features_valid)\n",
    "result3 = accuracy_score(target_valid, predictions3) # model quality metric on the validation set\n",
    "\n",
    "print(\"Accuracy:\", result3)"
   ]
  },
  {
   "cell_type": "markdown",
   "metadata": {},
   "source": [
    "***Logic Regression***\n",
    "\n",
    "- the fastest\n",
    "- not a very good indicator of Accuracy. Not even 75%"
   ]
  },
  {
   "cell_type": "markdown",
   "metadata": {},
   "source": [
    "## Step 8. Checking models on a test set"
   ]
  },
  {
   "cell_type": "code",
   "execution_count": 29,
   "metadata": {},
   "outputs": [
    {
     "name": "stdout",
     "output_type": "stream",
     "text": [
      "0.85\n",
      "0.95\n",
      "0.85\n"
     ]
    }
   ],
   "source": [
    "# Accuracy on the test set\n",
    "result1 = model1.score(features_test, target_test)\n",
    "result2 = model2.score(features_test, target_test)\n",
    "result3 = model3.score(features_test, target_test)\n",
    "print(result1)\n",
    "print(result2)\n",
    "print(result3)"
   ]
  },
  {
   "cell_type": "markdown",
   "metadata": {},
   "source": [
    "***After checking on the test sample, we can conclude that:***\n",
    "\n",
    "- The most accurate model is random forest\n",
    "- In second place Decision Tree\n",
    "- And the fastest, but not accurate, is the regression model"
   ]
  },
  {
   "cell_type": "markdown",
   "metadata": {},
   "source": [
    "## Step 9. Check models for adequacy"
   ]
  },
  {
   "cell_type": "markdown",
   "metadata": {},
   "source": [
    "To test the classification model, you need to compare the Accuracy result with a random value. This is 50%\n",
    "\n",
    "- ***In our case it is:***\n",
    "- 85% - wood\n",
    "- 95% - forest\n",
    "- 85% - regression\n",
    "- All 3 models are the same and perform their function. They don't do it with 100% accuracy though."
   ]
  },
  {
   "cell_type": "markdown",
   "metadata": {},
   "source": [
    "## Conclusion"
   ]
  },
  {
   "cell_type": "markdown",
   "metadata": {},
   "source": [
    "The best model is Random Forest. Although it takes a long time, it has better accuracy. Other models will work too. Let's say a decision tree gets a good result, but if you overdo it with the number of trees, you can very easily retrain it. The regression produces the worst result, but better than 50%. In this model, accuracy suffers due to the speed of its execution."
   ]
  },
  {
   "cell_type": "code",
   "execution_count": null,
   "metadata": {},
   "outputs": [],
   "source": []
  },
  {
   "cell_type": "code",
   "execution_count": null,
   "metadata": {},
   "outputs": [],
   "source": []
  }
 ],
 "metadata": {
  "ExecuteTimeLog": [
   {
    "duration": 44,
    "start_time": "2022-10-01T03:07:58.044Z"
   },
   {
    "duration": 1031,
    "start_time": "2022-10-01T03:08:01.457Z"
   },
   {
    "duration": 1050,
    "start_time": "2022-10-01T03:08:02.490Z"
   },
   {
    "duration": 2,
    "start_time": "2022-10-01T03:10:32.390Z"
   },
   {
    "duration": 483,
    "start_time": "2022-10-01T03:10:32.537Z"
   },
   {
    "duration": 69,
    "start_time": "2022-10-01T03:10:33.022Z"
   },
   {
    "duration": 244,
    "start_time": "2022-10-01T03:10:33.378Z"
   },
   {
    "duration": 603,
    "start_time": "2022-10-01T03:10:33.766Z"
   },
   {
    "duration": 219,
    "start_time": "2022-10-01T03:10:34.370Z"
   },
   {
    "duration": 561,
    "start_time": "2022-10-01T03:10:34.590Z"
   },
   {
    "duration": 297,
    "start_time": "2022-10-01T03:10:35.153Z"
   },
   {
    "duration": 27,
    "start_time": "2022-10-01T03:10:36.139Z"
   },
   {
    "duration": 6,
    "start_time": "2022-10-01T03:10:36.168Z"
   },
   {
    "duration": 1040,
    "start_time": "2022-10-01T03:10:36.175Z"
   },
   {
    "duration": 232,
    "start_time": "2022-10-01T03:10:37.217Z"
   },
   {
    "duration": 121,
    "start_time": "2022-10-01T03:10:37.451Z"
   },
   {
    "duration": 18,
    "start_time": "2022-10-01T03:10:37.575Z"
   },
   {
    "duration": 104,
    "start_time": "2022-10-01T03:11:05.441Z"
   },
   {
    "duration": 18,
    "start_time": "2022-10-01T03:11:19.200Z"
   },
   {
    "duration": 122,
    "start_time": "2022-10-01T03:12:26.981Z"
   },
   {
    "duration": 17,
    "start_time": "2022-10-01T03:12:27.837Z"
   },
   {
    "duration": 179,
    "start_time": "2022-10-01T03:12:29.088Z"
   },
   {
    "duration": 167,
    "start_time": "2022-10-01T03:12:29.743Z"
   },
   {
    "duration": 177,
    "start_time": "2022-10-01T03:12:30.503Z"
   },
   {
    "duration": 6,
    "start_time": "2022-10-01T03:12:33.601Z"
   },
   {
    "duration": 8,
    "start_time": "2022-10-01T03:12:35.538Z"
   },
   {
    "duration": 7,
    "start_time": "2022-10-01T03:13:32.608Z"
   },
   {
    "duration": 7,
    "start_time": "2022-10-01T03:13:43.960Z"
   },
   {
    "duration": 7,
    "start_time": "2022-10-01T03:14:01.093Z"
   },
   {
    "duration": 122,
    "start_time": "2022-10-01T03:14:10.306Z"
   },
   {
    "duration": 5,
    "start_time": "2022-10-01T03:14:14.281Z"
   },
   {
    "duration": 59,
    "start_time": "2022-10-01T03:16:53.468Z"
   },
   {
    "duration": 10,
    "start_time": "2022-10-01T03:17:14.066Z"
   },
   {
    "duration": 1052,
    "start_time": "2022-10-01T03:18:45.721Z"
   },
   {
    "duration": 479,
    "start_time": "2022-10-01T03:18:46.775Z"
   },
   {
    "duration": 81,
    "start_time": "2022-10-01T03:18:47.255Z"
   },
   {
    "duration": 246,
    "start_time": "2022-10-01T03:18:47.338Z"
   },
   {
    "duration": 576,
    "start_time": "2022-10-01T03:18:47.586Z"
   },
   {
    "duration": 210,
    "start_time": "2022-10-01T03:18:48.164Z"
   },
   {
    "duration": 552,
    "start_time": "2022-10-01T03:18:48.377Z"
   },
   {
    "duration": 289,
    "start_time": "2022-10-01T03:18:48.931Z"
   },
   {
    "duration": 32,
    "start_time": "2022-10-01T03:18:49.222Z"
   },
   {
    "duration": 5,
    "start_time": "2022-10-01T03:18:49.256Z"
   },
   {
    "duration": 974,
    "start_time": "2022-10-01T03:18:49.263Z"
   },
   {
    "duration": 224,
    "start_time": "2022-10-01T03:18:50.239Z"
   },
   {
    "duration": 101,
    "start_time": "2022-10-01T03:18:50.464Z"
   },
   {
    "duration": 16,
    "start_time": "2022-10-01T03:18:50.567Z"
   },
   {
    "duration": 173,
    "start_time": "2022-10-01T03:18:50.585Z"
   },
   {
    "duration": 172,
    "start_time": "2022-10-01T03:18:50.759Z"
   },
   {
    "duration": 182,
    "start_time": "2022-10-01T03:18:50.934Z"
   },
   {
    "duration": 5,
    "start_time": "2022-10-01T03:18:51.118Z"
   },
   {
    "duration": 17,
    "start_time": "2022-10-01T03:18:51.124Z"
   },
   {
    "duration": 151,
    "start_time": "2022-10-01T03:18:51.143Z"
   },
   {
    "duration": 1070,
    "start_time": "2022-10-01T03:18:51.296Z"
   },
   {
    "duration": 6,
    "start_time": "2022-10-01T03:18:52.368Z"
   },
   {
    "duration": 138,
    "start_time": "2022-10-01T03:18:52.376Z"
   },
   {
    "duration": 350,
    "start_time": "2022-10-01T03:20:06.517Z"
   },
   {
    "duration": 136,
    "start_time": "2022-10-01T03:20:53.164Z"
   },
   {
    "duration": 11,
    "start_time": "2022-10-01T03:21:02.286Z"
   },
   {
    "duration": 95,
    "start_time": "2022-10-01T03:25:21.138Z"
   },
   {
    "duration": 81,
    "start_time": "2022-10-01T03:25:37.718Z"
   },
   {
    "duration": 56,
    "start_time": "2022-10-01T03:26:08.075Z"
   },
   {
    "duration": 43,
    "start_time": "2022-10-01T03:26:12.942Z"
   },
   {
    "duration": 9,
    "start_time": "2022-10-01T03:26:20.521Z"
   },
   {
    "duration": 70,
    "start_time": "2022-10-01T03:26:27.362Z"
   },
   {
    "duration": 1056,
    "start_time": "2022-10-01T03:26:51.066Z"
   },
   {
    "duration": 315,
    "start_time": "2022-10-01T03:26:54.522Z"
   },
   {
    "duration": 298,
    "start_time": "2022-10-01T03:27:17.743Z"
   },
   {
    "duration": 1241,
    "start_time": "2022-10-01T03:28:10.488Z"
   },
   {
    "duration": 475,
    "start_time": "2022-10-01T03:28:11.731Z"
   },
   {
    "duration": 32,
    "start_time": "2022-10-01T03:28:12.207Z"
   },
   {
    "duration": 78,
    "start_time": "2022-10-01T03:28:12.241Z"
   },
   {
    "duration": 249,
    "start_time": "2022-10-01T03:28:12.321Z"
   },
   {
    "duration": 574,
    "start_time": "2022-10-01T03:28:12.572Z"
   },
   {
    "duration": 201,
    "start_time": "2022-10-01T03:28:13.147Z"
   },
   {
    "duration": 529,
    "start_time": "2022-10-01T03:28:13.350Z"
   },
   {
    "duration": 293,
    "start_time": "2022-10-01T03:28:13.881Z"
   },
   {
    "duration": 28,
    "start_time": "2022-10-01T03:28:14.177Z"
   },
   {
    "duration": 5,
    "start_time": "2022-10-01T03:28:14.206Z"
   },
   {
    "duration": 986,
    "start_time": "2022-10-01T03:28:14.213Z"
   },
   {
    "duration": 227,
    "start_time": "2022-10-01T03:28:15.201Z"
   },
   {
    "duration": 127,
    "start_time": "2022-10-01T03:28:15.429Z"
   },
   {
    "duration": 20,
    "start_time": "2022-10-01T03:28:15.558Z"
   },
   {
    "duration": 198,
    "start_time": "2022-10-01T03:28:15.579Z"
   },
   {
    "duration": 174,
    "start_time": "2022-10-01T03:28:15.779Z"
   },
   {
    "duration": 181,
    "start_time": "2022-10-01T03:28:15.955Z"
   },
   {
    "duration": 4,
    "start_time": "2022-10-01T03:28:16.138Z"
   },
   {
    "duration": 23,
    "start_time": "2022-10-01T03:28:16.144Z"
   },
   {
    "duration": 174,
    "start_time": "2022-10-01T03:28:16.169Z"
   },
   {
    "duration": 1094,
    "start_time": "2022-10-01T03:28:16.345Z"
   },
   {
    "duration": 7,
    "start_time": "2022-10-01T03:28:17.440Z"
   },
   {
    "duration": 157,
    "start_time": "2022-10-01T03:28:17.449Z"
   },
   {
    "duration": 9,
    "start_time": "2022-10-01T03:28:17.608Z"
   },
   {
    "duration": 90,
    "start_time": "2022-10-01T03:28:17.619Z"
   },
   {
    "duration": 1082,
    "start_time": "2022-10-01T03:28:17.711Z"
   },
   {
    "duration": 347,
    "start_time": "2022-10-01T03:28:18.795Z"
   },
   {
    "duration": 100,
    "start_time": "2022-10-01T03:28:19.235Z"
   }
  ],
  "kernelspec": {
   "display_name": "Python 3 (ipykernel)",
   "language": "python",
   "name": "python3"
  },
  "language_info": {
   "codemirror_mode": {
    "name": "ipython",
    "version": 3
   },
   "file_extension": ".py",
   "mimetype": "text/x-python",
   "name": "python",
   "nbconvert_exporter": "python",
   "pygments_lexer": "ipython3",
   "version": "3.9.5"
  },
  "toc": {
   "base_numbering": 1,
   "nav_menu": {},
   "number_sections": true,
   "sideBar": true,
   "skip_h1_title": true,
   "title_cell": "Table of Contents",
   "title_sidebar": "Contents",
   "toc_cell": false,
   "toc_position": {},
   "toc_section_display": true,
   "toc_window_display": false
  }
 },
 "nbformat": 4,
 "nbformat_minor": 2
}
